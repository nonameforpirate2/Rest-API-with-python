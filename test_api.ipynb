{
 "cells": [
  {
   "cell_type": "code",
   "execution_count": 31,
   "metadata": {},
   "outputs": [],
   "source": [
    "from flask import Flask, request, jsonify\n",
    "from flask_sqlalchemy import SQLAlchemy\n",
    "from flask_marshmallow import Marshmallow\n",
    "from flask_restful import Resource, Api\n",
    "import yaml\n",
    "from sqlalchemy import create_engine\n",
    "from sqlalchemy.engine import URL"
   ]
  },
  {
   "cell_type": "code",
   "execution_count": 32,
   "metadata": {},
   "outputs": [],
   "source": [
    "with open('rest_conf.yml', 'r') as file:\n",
    "        config = yaml.safe_load(file)"
   ]
  },
  {
   "cell_type": "code",
   "execution_count": 33,
   "metadata": {},
   "outputs": [],
   "source": [
    "#Authenticator Credentials\n",
    "user = config['rest_api']['user_name'][0]\n",
    "password = config['rest_api']['password'][0]\n",
    "hostname = config['rest_api']['host'][0]\n",
    "db_name = config['rest_api']['database'][0]\n",
    "db_url = config['rest_api']['database_url'][0]\n",
    "driver_name = config['rest_api']['driver_name'][0]\n"
   ]
  },
  {
   "cell_type": "code",
   "execution_count": 34,
   "metadata": {},
   "outputs": [],
   "source": [
    "url = URL.create(\n",
    "    drivername=driver_name,\n",
    "    username=user,\n",
    "    host=hostname,\n",
    "    database=db_name\n",
    ")"
   ]
  },
  {
   "cell_type": "code",
   "execution_count": 35,
   "metadata": {},
   "outputs": [],
   "source": [
    "rest_app = Flask(__name__) \n",
    "api = Api(rest_app) \n",
    "rest_app.config['SQLALCHEMY_DATABASE_URI'] = url\n",
    "rest_app.config['SQLALCHEMY_TRACK_MODIFICATIONS'] = False \n",
    "db = SQLAlchemy(rest_app) \n",
    "ma = Marshmallow(rest_app)"
   ]
  },
  {
   "cell_type": "code",
   "execution_count": 40,
   "metadata": {},
   "outputs": [
    {
     "ename": "InvalidRequestError",
     "evalue": "Table 'departments' is already defined for this MetaData instance.  Specify 'extend_existing=True' to redefine options and columns on an existing Table object.",
     "output_type": "error",
     "traceback": [
      "\u001b[1;31m---------------------------------------------------------------------------\u001b[0m",
      "\u001b[1;31mInvalidRequestError\u001b[0m                       Traceback (most recent call last)",
      "Cell \u001b[1;32mIn[40], line 1\u001b[0m\n\u001b[1;32m----> 1\u001b[0m \u001b[39mclass\u001b[39;00m \u001b[39mDepartments\u001b[39;00m(db\u001b[39m.\u001b[39mModel):\n\u001b[0;32m      2\u001b[0m     \u001b[39mid\u001b[39m \u001b[39m=\u001b[39m db\u001b[39m.\u001b[39mColumn(db\u001b[39m.\u001b[39mInteger, primary_key\u001b[39m=\u001b[39m\u001b[39mTrue\u001b[39;00m)\n\u001b[0;32m      3\u001b[0m     department_name \u001b[39m=\u001b[39m db\u001b[39m.\u001b[39mColumn(db\u001b[39m.\u001b[39mString(\u001b[39m64\u001b[39m), unique\u001b[39m=\u001b[39m\u001b[39mTrue\u001b[39;00m)\n",
      "File \u001b[1;32mc:\\Users\\g1238\\Anaconda3\\envs\\tcshackaton\\lib\\site-packages\\flask_sqlalchemy\\model.py:100\u001b[0m, in \u001b[0;36mBindMetaMixin.__init__\u001b[1;34m(cls, name, bases, d, **kwargs)\u001b[0m\n\u001b[0;32m     97\u001b[0m     \u001b[39mif\u001b[39;00m metadata \u001b[39mis\u001b[39;00m \u001b[39mnot\u001b[39;00m parent_metadata:\n\u001b[0;32m     98\u001b[0m         \u001b[39mcls\u001b[39m\u001b[39m.\u001b[39mmetadata \u001b[39m=\u001b[39m metadata\n\u001b[1;32m--> 100\u001b[0m \u001b[39msuper\u001b[39m()\u001b[39m.\u001b[39m\u001b[39m__init__\u001b[39m(name, bases, d, \u001b[39m*\u001b[39m\u001b[39m*\u001b[39mkwargs)\n",
      "File \u001b[1;32mc:\\Users\\g1238\\Anaconda3\\envs\\tcshackaton\\lib\\site-packages\\flask_sqlalchemy\\model.py:120\u001b[0m, in \u001b[0;36mNameMetaMixin.__init__\u001b[1;34m(cls, name, bases, d, **kwargs)\u001b[0m\n\u001b[0;32m    117\u001b[0m \u001b[39mif\u001b[39;00m should_set_tablename(\u001b[39mcls\u001b[39m):\n\u001b[0;32m    118\u001b[0m     \u001b[39mcls\u001b[39m\u001b[39m.\u001b[39m__tablename__ \u001b[39m=\u001b[39m camel_to_snake_case(\u001b[39mcls\u001b[39m\u001b[39m.\u001b[39m\u001b[39m__name__\u001b[39m)\n\u001b[1;32m--> 120\u001b[0m \u001b[39msuper\u001b[39m()\u001b[39m.\u001b[39m\u001b[39m__init__\u001b[39m(name, bases, d, \u001b[39m*\u001b[39m\u001b[39m*\u001b[39mkwargs)\n\u001b[0;32m    122\u001b[0m \u001b[39m# __table_cls__ has run. If no table was created, use the parent table.\u001b[39;00m\n\u001b[0;32m    123\u001b[0m \u001b[39mif\u001b[39;00m (\n\u001b[0;32m    124\u001b[0m     \u001b[39m\"\u001b[39m\u001b[39m__tablename__\u001b[39m\u001b[39m\"\u001b[39m \u001b[39mnot\u001b[39;00m \u001b[39min\u001b[39;00m \u001b[39mcls\u001b[39m\u001b[39m.\u001b[39m\u001b[39m__dict__\u001b[39m\n\u001b[0;32m    125\u001b[0m     \u001b[39mand\u001b[39;00m \u001b[39m\"\u001b[39m\u001b[39m__table__\u001b[39m\u001b[39m\"\u001b[39m \u001b[39min\u001b[39;00m \u001b[39mcls\u001b[39m\u001b[39m.\u001b[39m\u001b[39m__dict__\u001b[39m\n\u001b[0;32m    126\u001b[0m     \u001b[39mand\u001b[39;00m \u001b[39mcls\u001b[39m\u001b[39m.\u001b[39m\u001b[39m__dict__\u001b[39m[\u001b[39m\"\u001b[39m\u001b[39m__table__\u001b[39m\u001b[39m\"\u001b[39m] \u001b[39mis\u001b[39;00m \u001b[39mNone\u001b[39;00m\n\u001b[0;32m    127\u001b[0m ):\n",
      "File \u001b[1;32mc:\\Users\\g1238\\Anaconda3\\envs\\tcshackaton\\lib\\site-packages\\sqlalchemy\\orm\\decl_api.py:193\u001b[0m, in \u001b[0;36mDeclarativeMeta.__init__\u001b[1;34m(cls, classname, bases, dict_, **kw)\u001b[0m\n\u001b[0;32m    190\u001b[0m         \u001b[39mcls\u001b[39m\u001b[39m.\u001b[39m_sa_registry \u001b[39m=\u001b[39m reg\n\u001b[0;32m    192\u001b[0m \u001b[39mif\u001b[39;00m \u001b[39mnot\u001b[39;00m \u001b[39mcls\u001b[39m\u001b[39m.\u001b[39m\u001b[39m__dict__\u001b[39m\u001b[39m.\u001b[39mget(\u001b[39m\"\u001b[39m\u001b[39m__abstract__\u001b[39m\u001b[39m\"\u001b[39m, \u001b[39mFalse\u001b[39;00m):\n\u001b[1;32m--> 193\u001b[0m     _as_declarative(reg, \u001b[39mcls\u001b[39;49m, dict_)\n\u001b[0;32m    194\u001b[0m \u001b[39mtype\u001b[39m\u001b[39m.\u001b[39m\u001b[39m__init__\u001b[39m(\u001b[39mcls\u001b[39m, classname, bases, dict_)\n",
      "File \u001b[1;32mc:\\Users\\g1238\\Anaconda3\\envs\\tcshackaton\\lib\\site-packages\\sqlalchemy\\orm\\decl_base.py:248\u001b[0m, in \u001b[0;36m_as_declarative\u001b[1;34m(registry, cls, dict_)\u001b[0m\n\u001b[0;32m    242\u001b[0m \u001b[39mdef\u001b[39;00m \u001b[39m_as_declarative\u001b[39m(\n\u001b[0;32m    243\u001b[0m     registry: _RegistryType, \u001b[39mcls\u001b[39m: Type[Any], dict_: _ClassDict\n\u001b[0;32m    244\u001b[0m ) \u001b[39m-\u001b[39m\u001b[39m>\u001b[39m Optional[_MapperConfig]:\n\u001b[0;32m    245\u001b[0m \n\u001b[0;32m    246\u001b[0m     \u001b[39m# declarative scans the class for attributes.  no table or mapper\u001b[39;00m\n\u001b[0;32m    247\u001b[0m     \u001b[39m# args passed separately.\u001b[39;00m\n\u001b[1;32m--> 248\u001b[0m     \u001b[39mreturn\u001b[39;00m _MapperConfig\u001b[39m.\u001b[39;49msetup_mapping(registry, \u001b[39mcls\u001b[39;49m, dict_, \u001b[39mNone\u001b[39;49;00m, {})\n",
      "File \u001b[1;32mc:\\Users\\g1238\\Anaconda3\\envs\\tcshackaton\\lib\\site-packages\\sqlalchemy\\orm\\decl_base.py:329\u001b[0m, in \u001b[0;36m_MapperConfig.setup_mapping\u001b[1;34m(cls, registry, cls_, dict_, table, mapper_kw)\u001b[0m\n\u001b[0;32m    325\u001b[0m     \u001b[39mreturn\u001b[39;00m _DeferredMapperConfig(\n\u001b[0;32m    326\u001b[0m         registry, cls_, dict_, table, mapper_kw\n\u001b[0;32m    327\u001b[0m     )\n\u001b[0;32m    328\u001b[0m \u001b[39melse\u001b[39;00m:\n\u001b[1;32m--> 329\u001b[0m     \u001b[39mreturn\u001b[39;00m _ClassScanMapperConfig(\n\u001b[0;32m    330\u001b[0m         registry, cls_, dict_, table, mapper_kw\n\u001b[0;32m    331\u001b[0m     )\n",
      "File \u001b[1;32mc:\\Users\\g1238\\Anaconda3\\envs\\tcshackaton\\lib\\site-packages\\sqlalchemy\\orm\\decl_base.py:581\u001b[0m, in \u001b[0;36m_ClassScanMapperConfig.__init__\u001b[1;34m(self, registry, cls_, dict_, table, mapper_kw)\u001b[0m\n\u001b[0;32m    577\u001b[0m \u001b[39mself\u001b[39m\u001b[39m.\u001b[39m_extract_mappable_attributes()\n\u001b[0;32m    579\u001b[0m \u001b[39mself\u001b[39m\u001b[39m.\u001b[39m_extract_declared_columns()\n\u001b[1;32m--> 581\u001b[0m \u001b[39mself\u001b[39;49m\u001b[39m.\u001b[39;49m_setup_table(table)\n\u001b[0;32m    583\u001b[0m \u001b[39mself\u001b[39m\u001b[39m.\u001b[39m_setup_inheriting_columns(mapper_kw)\n\u001b[0;32m    585\u001b[0m \u001b[39mself\u001b[39m\u001b[39m.\u001b[39m_early_mapping(mapper_kw)\n",
      "File \u001b[1;32mc:\\Users\\g1238\\Anaconda3\\envs\\tcshackaton\\lib\\site-packages\\sqlalchemy\\orm\\decl_base.py:1731\u001b[0m, in \u001b[0;36m_ClassScanMapperConfig._setup_table\u001b[1;34m(self, table)\u001b[0m\n\u001b[0;32m   1723\u001b[0m             table_kw[\u001b[39m\"\u001b[39m\u001b[39mautoload\u001b[39m\u001b[39m\"\u001b[39m] \u001b[39m=\u001b[39m \u001b[39mTrue\u001b[39;00m\n\u001b[0;32m   1725\u001b[0m         sorted_columns \u001b[39m=\u001b[39m \u001b[39msorted\u001b[39m(\n\u001b[0;32m   1726\u001b[0m             declared_columns,\n\u001b[0;32m   1727\u001b[0m             key\u001b[39m=\u001b[39m\u001b[39mlambda\u001b[39;00m c: column_ordering\u001b[39m.\u001b[39mget(c, \u001b[39m0\u001b[39m),\n\u001b[0;32m   1728\u001b[0m         )\n\u001b[0;32m   1729\u001b[0m         table \u001b[39m=\u001b[39m \u001b[39mself\u001b[39m\u001b[39m.\u001b[39mset_cls_attribute(\n\u001b[0;32m   1730\u001b[0m             \u001b[39m\"\u001b[39m\u001b[39m__table__\u001b[39m\u001b[39m\"\u001b[39m,\n\u001b[1;32m-> 1731\u001b[0m             table_cls(\n\u001b[0;32m   1732\u001b[0m                 tablename,\n\u001b[0;32m   1733\u001b[0m                 \u001b[39mself\u001b[39m\u001b[39m.\u001b[39m_metadata_for_cls(manager),\n\u001b[0;32m   1734\u001b[0m                 \u001b[39m*\u001b[39msorted_columns,\n\u001b[0;32m   1735\u001b[0m                 \u001b[39m*\u001b[39margs,\n\u001b[0;32m   1736\u001b[0m                 \u001b[39m*\u001b[39m\u001b[39m*\u001b[39mtable_kw,\n\u001b[0;32m   1737\u001b[0m             ),\n\u001b[0;32m   1738\u001b[0m         )\n\u001b[0;32m   1739\u001b[0m \u001b[39melse\u001b[39;00m:\n\u001b[0;32m   1740\u001b[0m     \u001b[39mif\u001b[39;00m table \u001b[39mis\u001b[39;00m \u001b[39mNone\u001b[39;00m:\n",
      "File \u001b[1;32mc:\\Users\\g1238\\Anaconda3\\envs\\tcshackaton\\lib\\site-packages\\flask_sqlalchemy\\model.py:147\u001b[0m, in \u001b[0;36mNameMetaMixin.__table_cls__\u001b[1;34m(cls, *args, **kwargs)\u001b[0m\n\u001b[0;32m    144\u001b[0m \u001b[39m# Check if a table with this name already exists. Allows reflected tables to be\u001b[39;00m\n\u001b[0;32m    145\u001b[0m \u001b[39m# applied to models by name.\u001b[39;00m\n\u001b[0;32m    146\u001b[0m \u001b[39mif\u001b[39;00m key \u001b[39min\u001b[39;00m \u001b[39mcls\u001b[39m\u001b[39m.\u001b[39mmetadata\u001b[39m.\u001b[39mtables:\n\u001b[1;32m--> 147\u001b[0m     \u001b[39mreturn\u001b[39;00m sa\u001b[39m.\u001b[39mTable(\u001b[39m*\u001b[39margs, \u001b[39m*\u001b[39m\u001b[39m*\u001b[39mkwargs)\n\u001b[0;32m    149\u001b[0m \u001b[39m# If a primary key is found, create a table for joined-table inheritance.\u001b[39;00m\n\u001b[0;32m    150\u001b[0m \u001b[39mfor\u001b[39;00m arg \u001b[39min\u001b[39;00m args:\n",
      "File \u001b[1;32m<string>:2\u001b[0m, in \u001b[0;36m__new__\u001b[1;34m(cls, *args, **kw)\u001b[0m\n",
      "File \u001b[1;32mc:\\Users\\g1238\\Anaconda3\\envs\\tcshackaton\\lib\\site-packages\\sqlalchemy\\util\\deprecations.py:283\u001b[0m, in \u001b[0;36mdeprecated_params.<locals>.decorate.<locals>.warned\u001b[1;34m(fn, *args, **kwargs)\u001b[0m\n\u001b[0;32m    276\u001b[0m     \u001b[39mif\u001b[39;00m m \u001b[39min\u001b[39;00m kwargs:\n\u001b[0;32m    277\u001b[0m         _warn_with_version(\n\u001b[0;32m    278\u001b[0m             messages[m],\n\u001b[0;32m    279\u001b[0m             versions[m],\n\u001b[0;32m    280\u001b[0m             version_warnings[m],\n\u001b[0;32m    281\u001b[0m             stacklevel\u001b[39m=\u001b[39m\u001b[39m3\u001b[39m,\n\u001b[0;32m    282\u001b[0m         )\n\u001b[1;32m--> 283\u001b[0m \u001b[39mreturn\u001b[39;00m fn(\u001b[39m*\u001b[39margs, \u001b[39m*\u001b[39m\u001b[39m*\u001b[39mkwargs)\n",
      "File \u001b[1;32mc:\\Users\\g1238\\Anaconda3\\envs\\tcshackaton\\lib\\site-packages\\sqlalchemy\\sql\\schema.py:435\u001b[0m, in \u001b[0;36mTable.__new__\u001b[1;34m(cls, *args, **kw)\u001b[0m\n\u001b[0;32m    428\u001b[0m \u001b[39m@util\u001b[39m\u001b[39m.\u001b[39mdeprecated_params(\n\u001b[0;32m    429\u001b[0m     mustexist\u001b[39m=\u001b[39m(\n\u001b[0;32m    430\u001b[0m         \u001b[39m\"\u001b[39m\u001b[39m1.4\u001b[39m\u001b[39m\"\u001b[39m,\n\u001b[1;32m   (...)\u001b[0m\n\u001b[0;32m    433\u001b[0m )\n\u001b[0;32m    434\u001b[0m \u001b[39mdef\u001b[39;00m \u001b[39m__new__\u001b[39m(\u001b[39mcls\u001b[39m, \u001b[39m*\u001b[39margs: Any, \u001b[39m*\u001b[39m\u001b[39m*\u001b[39mkw: Any) \u001b[39m-\u001b[39m\u001b[39m>\u001b[39m Any:\n\u001b[1;32m--> 435\u001b[0m     \u001b[39mreturn\u001b[39;00m \u001b[39mcls\u001b[39m\u001b[39m.\u001b[39m_new(\u001b[39m*\u001b[39margs, \u001b[39m*\u001b[39m\u001b[39m*\u001b[39mkw)\n",
      "File \u001b[1;32mc:\\Users\\g1238\\Anaconda3\\envs\\tcshackaton\\lib\\site-packages\\sqlalchemy\\sql\\schema.py:467\u001b[0m, in \u001b[0;36mTable._new\u001b[1;34m(cls, *args, **kw)\u001b[0m\n\u001b[0;32m    465\u001b[0m \u001b[39mif\u001b[39;00m key \u001b[39min\u001b[39;00m metadata\u001b[39m.\u001b[39mtables:\n\u001b[0;32m    466\u001b[0m     \u001b[39mif\u001b[39;00m \u001b[39mnot\u001b[39;00m keep_existing \u001b[39mand\u001b[39;00m \u001b[39mnot\u001b[39;00m extend_existing \u001b[39mand\u001b[39;00m \u001b[39mbool\u001b[39m(args):\n\u001b[1;32m--> 467\u001b[0m         \u001b[39mraise\u001b[39;00m exc\u001b[39m.\u001b[39mInvalidRequestError(\n\u001b[0;32m    468\u001b[0m             \u001b[39m\"\u001b[39m\u001b[39mTable \u001b[39m\u001b[39m'\u001b[39m\u001b[39m%s\u001b[39;00m\u001b[39m'\u001b[39m\u001b[39m is already defined for this MetaData \u001b[39m\u001b[39m\"\u001b[39m\n\u001b[0;32m    469\u001b[0m             \u001b[39m\"\u001b[39m\u001b[39minstance.  Specify \u001b[39m\u001b[39m'\u001b[39m\u001b[39mextend_existing=True\u001b[39m\u001b[39m'\u001b[39m\u001b[39m \u001b[39m\u001b[39m\"\u001b[39m\n\u001b[0;32m    470\u001b[0m             \u001b[39m\"\u001b[39m\u001b[39mto redefine \u001b[39m\u001b[39m\"\u001b[39m\n\u001b[0;32m    471\u001b[0m             \u001b[39m\"\u001b[39m\u001b[39moptions and columns on an \u001b[39m\u001b[39m\"\u001b[39m\n\u001b[0;32m    472\u001b[0m             \u001b[39m\"\u001b[39m\u001b[39mexisting Table object.\u001b[39m\u001b[39m\"\u001b[39m \u001b[39m%\u001b[39m key\n\u001b[0;32m    473\u001b[0m         )\n\u001b[0;32m    474\u001b[0m     table \u001b[39m=\u001b[39m metadata\u001b[39m.\u001b[39mtables[key]\n\u001b[0;32m    475\u001b[0m     \u001b[39mif\u001b[39;00m extend_existing:\n",
      "\u001b[1;31mInvalidRequestError\u001b[0m: Table 'departments' is already defined for this MetaData instance.  Specify 'extend_existing=True' to redefine options and columns on an existing Table object."
     ]
    }
   ],
   "source": [
    "class Departments(db.Model):\n",
    "    id = db.Column(db.Integer, primary_key=True)\n",
    "    department_name = db.Column(db.String(64), unique=True)\n",
    "\n",
    "    def __init__(self, department_name):\n",
    "        self.department_name = department_name\n",
    "\n",
    "class Jobs(db.Model):\n",
    "    id = db.Column(db.Integer, primary_key=True)\n",
    "    job_name = db.Column(db.String(64), unique=True)\n",
    "\n",
    "    def __init__(self, job_name):\n",
    "        self.job_name = job_name\n",
    "\n",
    "class Employees(db.Model):\n",
    "    id = db.Column(db.Integer, primary_key=True)\n",
    "    employee_name = db.Column(db.String(32), unique=True)\n",
    "    hire_date = db.Column(db.Date)\n",
    "    department_id = db.Column(db.Integer)\n",
    "    job_id = db.Column(db.Integer)\n",
    "\n",
    "    def __init__(self, employee_name, hire_date, department_id, job_id):\n",
    "        self.employee_name = employee_name\n",
    "        self.hire_date = hire_date\n",
    "        self.department_id = department_id\n",
    "        self.job_id = job_id\n"
   ]
  },
  {
   "cell_type": "code",
   "execution_count": 41,
   "metadata": {},
   "outputs": [],
   "source": [
    "\n",
    "class DepartmentsSchema(ma.Schema):\n",
    "    class Meta_Departments:\n",
    "        fields = ('id', 'department_name')\n",
    "\n",
    "class JobSchema(ma.Schema):\n",
    "    class Meta_Jobs:\n",
    "        fields = ('id', 'job_name')\n",
    "\n",
    "class EmployeeSchema(ma.Schema):\n",
    "    class Meta_Employees:\n",
    "        fields = ('id', 'employee_name', 'hire_date', 'department_id', 'job_id')"
   ]
  },
  {
   "cell_type": "code",
   "execution_count": null,
   "metadata": {},
   "outputs": [],
   "source": [
    "employee_schema = EmployeeSchema() \n",
    "employees_schema = EmployeeSchema(many=True)\n",
    "\n",
    "class Resource_Manager(Resource): \n",
    "\n",
    "    @staticmethod\n",
    "    def get():\n",
    "        try: id = request.args['id']\n",
    "        except Exception as _: id = None\n",
    "        if not id:\n",
    "            employees = Employees.query.all()\n",
    "            return jsonify(employees_schema.dump(employees))\n",
    "        employee = Employees.query.get(id)\n",
    "        return jsonify(employee_schema.dump(employee))\n",
    "        pass\n",
    "\n",
    "@staticmethod\n",
    "def post():\n",
    "    employee_name = request.json['employee_name']\n",
    "    hire_date = request.json['hire_date']\n",
    "    department_id = request.json['department_id']\n",
    "    job_id = request.json['job_id']\n",
    "\n",
    "    employee = Employees(employee_name, hire_date, department_id, job_id)\n",
    "    db.session.add(user)\n",
    "    db.session.commit()\n",
    "\n",
    "    return jsonify({\n",
    "        'Message': f'User {employee_name} {hire_date} inserted.'\n",
    "    })\n",
    "\n",
    "\n",
    "api.add_resource(Resource_Manager, '/api/users')\n",
    "\n",
    "if __name__ == '__main__':\n",
    "    app.run(debug=True)"
   ]
  },
  {
   "cell_type": "code",
   "execution_count": 42,
   "metadata": {},
   "outputs": [],
   "source": [
    "from flask import Flask, request, jsonify\n",
    "from flask_sqlalchemy import SQLAlchemy\n",
    "from flask_marshmallow import Marshmallow\n",
    "from flask_restful import Resource, Api\n",
    "import yaml\n",
    "from sqlalchemy import create_engine\n",
    "from sqlalchemy.engine import URL\n",
    "\n",
    "\n",
    "if __name__ == '__main__':\n",
    "    \n",
    "    with open('rest_conf.yml', 'r') as file:\n",
    "            config = yaml.safe_load(file)\n",
    "\n",
    "    #Authenticator Credentials\n",
    "    user = config['rest_api']['user_name'][0]\n",
    "    password = config['rest_api']['password'][0]\n",
    "    hostname = config['rest_api']['host'][0]\n",
    "    db_name = config['rest_api']['database'][0]\n",
    "    db_url = config['rest_api']['database_url'][0]\n",
    "    driver_name = config['rest_api']['driver_name'][0]\n",
    "\n",
    "    url = URL.create(\n",
    "        drivername=driver_name,\n",
    "        username=user,\n",
    "        host=hostname,\n",
    "        database=db_name\n",
    "    )\n",
    "\n",
    "    rest_app = Flask(__name__) \n",
    "    api = Api(rest_app) \n",
    "    rest_app.config['SQLALCHEMY_DATABASE_URI'] = url\n",
    "    rest_app.config['SQLALCHEMY_TRACK_MODIFICATIONS'] = False \n",
    "    db = SQLAlchemy(rest_app) \n",
    "    ma = Marshmallow(rest_app)"
   ]
  },
  {
   "cell_type": "code",
   "execution_count": 44,
   "metadata": {},
   "outputs": [
    {
     "ename": "RuntimeError",
     "evalue": "Working outside of application context.\n\nThis typically means that you attempted to use functionality that needed\nthe current application. To solve this, set up an application context\nwith app.app_context(). See the documentation for more information.",
     "output_type": "error",
     "traceback": [
      "\u001b[1;31m---------------------------------------------------------------------------\u001b[0m",
      "\u001b[1;31mRuntimeError\u001b[0m                              Traceback (most recent call last)",
      "Cell \u001b[1;32mIn[44], line 1\u001b[0m\n\u001b[1;32m----> 1\u001b[0m db\u001b[39m.\u001b[39;49mengine\n",
      "File \u001b[1;32mc:\\Users\\g1238\\Anaconda3\\envs\\tcshackaton\\lib\\site-packages\\flask_sqlalchemy\\extension.py:658\u001b[0m, in \u001b[0;36mSQLAlchemy.engine\u001b[1;34m(self)\u001b[0m\n\u001b[0;32m    647\u001b[0m \u001b[39m@property\u001b[39m\n\u001b[0;32m    648\u001b[0m \u001b[39mdef\u001b[39;00m \u001b[39mengine\u001b[39m(\u001b[39mself\u001b[39m) \u001b[39m-\u001b[39m\u001b[39m>\u001b[39m sa\u001b[39m.\u001b[39mengine\u001b[39m.\u001b[39mEngine:\n\u001b[0;32m    649\u001b[0m \u001b[39m    \u001b[39m\u001b[39m\"\"\"The default :class:`~sqlalchemy.engine.Engine` for the current application,\u001b[39;00m\n\u001b[0;32m    650\u001b[0m \u001b[39m    used by :attr:`session` if the :attr:`Model` or :attr:`Table` being queried does\u001b[39;00m\n\u001b[0;32m    651\u001b[0m \u001b[39m    not set a bind key.\u001b[39;00m\n\u001b[1;32m   (...)\u001b[0m\n\u001b[0;32m    656\u001b[0m \u001b[39m    This requires that a Flask application context is active.\u001b[39;00m\n\u001b[0;32m    657\u001b[0m \u001b[39m    \"\"\"\u001b[39;00m\n\u001b[1;32m--> 658\u001b[0m     \u001b[39mreturn\u001b[39;00m \u001b[39mself\u001b[39;49m\u001b[39m.\u001b[39;49mengines[\u001b[39mNone\u001b[39;00m]\n",
      "File \u001b[1;32mc:\\Users\\g1238\\Anaconda3\\envs\\tcshackaton\\lib\\site-packages\\flask_sqlalchemy\\extension.py:636\u001b[0m, in \u001b[0;36mSQLAlchemy.engines\u001b[1;34m(self)\u001b[0m\n\u001b[0;32m    623\u001b[0m \u001b[39m@property\u001b[39m\n\u001b[0;32m    624\u001b[0m \u001b[39mdef\u001b[39;00m \u001b[39mengines\u001b[39m(\u001b[39mself\u001b[39m) \u001b[39m-\u001b[39m\u001b[39m>\u001b[39m t\u001b[39m.\u001b[39mMapping[\u001b[39mstr\u001b[39m \u001b[39m|\u001b[39m \u001b[39mNone\u001b[39;00m, sa\u001b[39m.\u001b[39mengine\u001b[39m.\u001b[39mEngine]:\n\u001b[0;32m    625\u001b[0m \u001b[39m    \u001b[39m\u001b[39m\"\"\"Map of bind keys to :class:`sqlalchemy.engine.Engine` instances for current\u001b[39;00m\n\u001b[0;32m    626\u001b[0m \u001b[39m    application. The ``None`` key refers to the default engine, and is available as\u001b[39;00m\n\u001b[0;32m    627\u001b[0m \u001b[39m    :attr:`engine`.\u001b[39;00m\n\u001b[1;32m   (...)\u001b[0m\n\u001b[0;32m    634\u001b[0m \u001b[39m    .. versionadded:: 3.0\u001b[39;00m\n\u001b[0;32m    635\u001b[0m \u001b[39m    \"\"\"\u001b[39;00m\n\u001b[1;32m--> 636\u001b[0m     app \u001b[39m=\u001b[39m current_app\u001b[39m.\u001b[39;49m_get_current_object()  \u001b[39m# type: ignore[attr-defined]\u001b[39;00m\n\u001b[0;32m    638\u001b[0m     \u001b[39mif\u001b[39;00m app \u001b[39mnot\u001b[39;00m \u001b[39min\u001b[39;00m \u001b[39mself\u001b[39m\u001b[39m.\u001b[39m_app_engines:\n\u001b[0;32m    639\u001b[0m         \u001b[39mraise\u001b[39;00m \u001b[39mRuntimeError\u001b[39;00m(\n\u001b[0;32m    640\u001b[0m             \u001b[39m\"\u001b[39m\u001b[39mThe current Flask app is not registered with this \u001b[39m\u001b[39m'\u001b[39m\u001b[39mSQLAlchemy\u001b[39m\u001b[39m'\u001b[39m\u001b[39m\"\u001b[39m\n\u001b[0;32m    641\u001b[0m             \u001b[39m\"\u001b[39m\u001b[39m instance. Did you forget to call \u001b[39m\u001b[39m'\u001b[39m\u001b[39minit_app\u001b[39m\u001b[39m'\u001b[39m\u001b[39m, or did you create\u001b[39m\u001b[39m\"\u001b[39m\n\u001b[0;32m    642\u001b[0m             \u001b[39m\"\u001b[39m\u001b[39m multiple \u001b[39m\u001b[39m'\u001b[39m\u001b[39mSQLAlchemy\u001b[39m\u001b[39m'\u001b[39m\u001b[39m instances?\u001b[39m\u001b[39m\"\u001b[39m\n\u001b[0;32m    643\u001b[0m         )\n",
      "File \u001b[1;32mc:\\Users\\g1238\\Anaconda3\\envs\\tcshackaton\\lib\\site-packages\\werkzeug\\local.py:513\u001b[0m, in \u001b[0;36mLocalProxy.__init__.<locals>._get_current_object\u001b[1;34m()\u001b[0m\n\u001b[0;32m    511\u001b[0m     obj \u001b[39m=\u001b[39m local\u001b[39m.\u001b[39mget()  \u001b[39m# type: ignore[union-attr]\u001b[39;00m\n\u001b[0;32m    512\u001b[0m \u001b[39mexcept\u001b[39;00m \u001b[39mLookupError\u001b[39;00m:\n\u001b[1;32m--> 513\u001b[0m     \u001b[39mraise\u001b[39;00m \u001b[39mRuntimeError\u001b[39;00m(unbound_message) \u001b[39mfrom\u001b[39;00m \u001b[39mNone\u001b[39m\n\u001b[0;32m    515\u001b[0m \u001b[39mreturn\u001b[39;00m get_name(obj)\n",
      "\u001b[1;31mRuntimeError\u001b[0m: Working outside of application context.\n\nThis typically means that you attempted to use functionality that needed\nthe current application. To solve this, set up an application context\nwith app.app_context(). See the documentation for more information."
     ]
    }
   ],
   "source": [
    "db.engine"
   ]
  },
  {
   "cell_type": "code",
   "execution_count": null,
   "metadata": {},
   "outputs": [],
   "source": []
  }
 ],
 "metadata": {
  "kernelspec": {
   "display_name": "python39",
   "language": "python",
   "name": "python3"
  },
  "language_info": {
   "codemirror_mode": {
    "name": "ipython",
    "version": 3
   },
   "file_extension": ".py",
   "mimetype": "text/x-python",
   "name": "python",
   "nbconvert_exporter": "python",
   "pygments_lexer": "ipython3",
   "version": "3.9.16"
  },
  "orig_nbformat": 4
 },
 "nbformat": 4,
 "nbformat_minor": 2
}
